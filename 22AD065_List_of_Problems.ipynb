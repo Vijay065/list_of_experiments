{
  "nbformat": 4,
  "nbformat_minor": 0,
  "metadata": {
    "colab": {
      "provenance": []
    },
    "kernelspec": {
      "name": "python3",
      "display_name": "Python 3"
    },
    "language_info": {
      "name": "python"
    }
  },
  "cells": [
    {
      "cell_type": "markdown",
      "source": [
        "**LIST OF EXPERIMENTS**\n",
        "\n",
        "1. Get an integer input from a user. If the number is odd, then find the factorial of a number and find the number of digits in the factorial of the number. If the number is even, then check the given number is palindrome or not."
      ],
      "metadata": {
        "id": "T3vFJkYlKX3B"
      }
    },
    {
      "cell_type": "markdown",
      "source": [],
      "metadata": {
        "id": "-nSzqAZlJPBl"
      }
    },
    {
      "cell_type": "code",
      "source": [
        "\n",
        "number = int(input(\"Enter an integer: \"))\n",
        "\n",
        "if number % 2 == 1:\n",
        "    fact = 1\n",
        "    for i in range(2, number + 1):\n",
        "        fact *= i\n",
        "\n",
        "    digit_count = 0\n",
        "    temp = fact\n",
        "    while temp != 0:\n",
        "        temp //= 10\n",
        "        digit_count += 1\n",
        "\n",
        "    print(\"Factorial:\", fact)\n",
        "    print(\"Number of digits in factorial:\", digit_count)\n",
        "\n",
        "else:\n",
        "    num_str = str(number)\n",
        "    if num_str == num_str[::-1]:\n",
        "        print(\"The number is a palindrome.\")\n",
        "    else:\n",
        "        print(\"The number is not a palindrome.\")\n"
      ],
      "metadata": {
        "colab": {
          "base_uri": "https://localhost:8080/"
        },
        "id": "ml9itoI3LJEI",
        "outputId": "63594eb3-f8b5-448d-dcf9-d04c6166fefa"
      },
      "execution_count": null,
      "outputs": [
        {
          "output_type": "stream",
          "name": "stdout",
          "text": [
            "Enter an integer: 72\n",
            "The number is not a palindrome.\n"
          ]
        }
      ]
    },
    {
      "cell_type": "markdown",
      "source": [
        "2. Given two strings, PRINT (YES or NO) whether the second string can be obtained from the first by deletion of none, one or more characters."
      ],
      "metadata": {
        "id": "TT5olV6PLjGT"
      }
    },
    {
      "cell_type": "code",
      "source": [
        "# Get user input\n",
        "first_string = input(\"Enter the first string: \")\n",
        "second_string = input(\"Enter the second string: \")\n",
        "\n",
        "# Convert the strings to lowercase for case-insensitive comparison\n",
        "first_string = first_string.lower()\n",
        "second_string = second_string.lower()\n",
        "\n",
        "index1 = 0\n",
        "index2 = 0\n",
        "\n",
        "while index1 < len(first_string) and index2 < len(second_string):\n",
        "    if first_string[index1] == second_string[index2]:\n",
        "        index1 += 1\n",
        "        index2 += 1\n",
        "    else:\n",
        "        index1 += 1\n",
        "\n",
        "# Check if all characters in second_string have been processed\n",
        "if index2 == len(second_string):\n",
        "    print(\"YES\")\n",
        "else:\n",
        "    print(\"NO\")\n"
      ],
      "metadata": {
        "id": "NZDlmTWFLQaD"
      },
      "execution_count": null,
      "outputs": []
    },
    {
      "cell_type": "code",
      "source": [],
      "metadata": {
        "id": "TAAupGTtRTPS"
      },
      "execution_count": null,
      "outputs": []
    },
    {
      "cell_type": "markdown",
      "source": [
        "3. List and its operations  \n",
        "a) Programs for positive and negative indexing.   \n",
        "b) Program to check if the given list is in Ascending order or not."
      ],
      "metadata": {
        "id": "FI_GOtgEmqbz"
      }
    },
    {
      "cell_type": "code",
      "source": [
        "# a) Programs for positive and negative indexing.\n",
        "\n",
        "my_list = [1, 2, 3, 4, 5]\n",
        "\n",
        "# Positive indexing\n",
        "index = int(input(\"Enter the positive index: \"))\n",
        "if 0 <= index < len(my_list):\n",
        "    print(\"Positive indexing - Element at index\", index, \":\", my_list[index])\n",
        "else:\n",
        "    print(\"Positive indexing - Index out of range\")\n",
        "\n",
        "# Negative indexing\n",
        "index = int(input(\"Enter the negative index: \"))\n",
        "if -len(my_list) <= index < 0:\n",
        "    print(\"Negative indexing - Element at index\", index, \":\", my_list[index])\n",
        "else:\n",
        "    print(\"Negative indexing - Index out of range\")\n",
        "\n",
        "\n"
      ],
      "metadata": {
        "colab": {
          "base_uri": "https://localhost:8080/"
        },
        "id": "xtOg626VndCu",
        "outputId": "626e9d95-90e5-4bde-9c8a-a82a79cdb22b"
      },
      "execution_count": 3,
      "outputs": [
        {
          "output_type": "stream",
          "name": "stdout",
          "text": [
            "Enter the positive index: 4\n",
            "Positive indexing - Element at index 4 : 5\n",
            "Enter the negative index: -3\n",
            "Negative indexing - Element at index -3 : 3\n"
          ]
        }
      ]
    },
    {
      "cell_type": "code",
      "source": [
        "# b) Program to check if the given list is in Ascending order or not.\n",
        "\n",
        "def is_ascending(lst):\n",
        "    for i in range(1, len(lst)):\n",
        "        if lst[i] < lst[i-1]:\n",
        "            return False\n",
        "    return True\n",
        "\n",
        "\n",
        "my_list = [1, 2, 3, 4, 5]\n",
        "print(is_ascending(my_list))\n",
        "\n"
      ],
      "metadata": {
        "colab": {
          "base_uri": "https://localhost:8080/"
        },
        "id": "jgeOzrUAmySh",
        "outputId": "de357ad4-8b6e-467b-a9ac-10682c9ec4e6"
      },
      "execution_count": 2,
      "outputs": [
        {
          "output_type": "stream",
          "name": "stdout",
          "text": [
            "True\n"
          ]
        }
      ]
    },
    {
      "cell_type": "markdown",
      "source": [
        "Tuples and its operations  \n",
        "  a) Python program to convert a tuple to a string.  \n",
        "  b) Python program to reverse a tuple."
      ],
      "metadata": {
        "id": "3ybvpJCipfHs"
      }
    },
    {
      "cell_type": "code",
      "source": [
        "# a) Python program to convert a tuple to a string.\n",
        "\n",
        "def tuple_conv(tup):\n",
        "\tstr = ''\n",
        "\tfor item in tup:\n",
        "\t\tstr = str + item\n",
        "\treturn str\n",
        "\n",
        "tup_1 = ('p','y','t','h','o','n')\n",
        "str = tuple_conv(tup_1)\n",
        "print(str)\n",
        "\n"
      ],
      "metadata": {
        "colab": {
          "base_uri": "https://localhost:8080/"
        },
        "id": "jji7drKbpldQ",
        "outputId": "b1f23311-b3f5-403b-d906-ab51861bf271"
      },
      "execution_count": 7,
      "outputs": [
        {
          "output_type": "stream",
          "name": "stdout",
          "text": [
            "python\n"
          ]
        }
      ]
    },
    {
      "cell_type": "code",
      "source": [
        "# Python program to reverse a tuple.\n",
        "\n",
        "tup_1 = (1, 2, 3, 4, 5)\n",
        "\n",
        "rev_tup = tup_1[::-1]\n",
        "\n",
        "print(\"Original Tuple:\", tup_1)\n",
        "print(\"Reversed Tuple:\", rev_tup)\n"
      ],
      "metadata": {
        "colab": {
          "base_uri": "https://localhost:8080/"
        },
        "id": "W6AQ6gnTpoMl",
        "outputId": "ccaf60dd-f9ef-409e-981a-6b9641100a0a"
      },
      "execution_count": 8,
      "outputs": [
        {
          "output_type": "stream",
          "name": "stdout",
          "text": [
            "Original Tuple: (1, 2, 3, 4, 5)\n",
            "Reversed Tuple: (5, 4, 3, 2, 1)\n"
          ]
        }
      ]
    },
    {
      "cell_type": "code",
      "source": [],
      "metadata": {
        "id": "JEjoTlInpqdt"
      },
      "execution_count": null,
      "outputs": []
    },
    {
      "cell_type": "markdown",
      "source": [
        "Sets and its operations:   \n",
        "Python program to check if a set is a subset of another set"
      ],
      "metadata": {
        "id": "ZcF0IjI9rBlt"
      }
    },
    {
      "cell_type": "code",
      "source": [
        "#Python program to check if a set is a subset of another set\n",
        "\n",
        "set_1 = {1, 2, 3, 4, 5}\n",
        "set_2 = {2, 4, 5}\n",
        "\n",
        "if set_2.issubset(set_1):\n",
        "    print(\"Set 2 is a subset of Set 1\")\n",
        "else:\n",
        "    print(\"Set 2 is not a subset of Set 1\")\n"
      ],
      "metadata": {
        "colab": {
          "base_uri": "https://localhost:8080/"
        },
        "id": "AfEf2EkkrI3A",
        "outputId": "8caf80f2-d5dd-4dfa-e79d-c050c76928bd"
      },
      "execution_count": 10,
      "outputs": [
        {
          "output_type": "stream",
          "name": "stdout",
          "text": [
            "Set 2 is a subset of Set 1\n"
          ]
        }
      ]
    },
    {
      "cell_type": "markdown",
      "source": [
        "Dictionaries and its operations:  \n",
        "Python program to iterate over dictionaries using for loops."
      ],
      "metadata": {
        "id": "3X4RSFdHrfbQ"
      }
    },
    {
      "cell_type": "code",
      "source": [
        "# Python program to iterate over dictionaries using for loops.\n",
        "\n",
        "dict_1 = {'Name': 'Sanjith', 'Age': 18, 'Area': 'Tiruppur'}\n",
        "\n",
        "for key in dict_1:\n",
        "    value = dict_1[key]\n",
        "    print(key, ':', value)\n"
      ],
      "metadata": {
        "colab": {
          "base_uri": "https://localhost:8080/"
        },
        "id": "1RTMUTn5rRqn",
        "outputId": "54001116-47e4-45f1-b33f-7b8f037cb88b"
      },
      "execution_count": 12,
      "outputs": [
        {
          "output_type": "stream",
          "name": "stdout",
          "text": [
            "Name : Sanjith\n",
            "Age : 18\n",
            "Area : Tiruppur\n"
          ]
        }
      ]
    },
    {
      "cell_type": "code",
      "source": [],
      "metadata": {
        "id": "sJeAvgYAr9gd"
      },
      "execution_count": null,
      "outputs": []
    },
    {
      "cell_type": "markdown",
      "source": [
        "**Computations using NumPy functions**   \n",
        "\n",
        "a) NumPy program to convert a list of numeric value into a one-dimensional NumPy array.   \n",
        "b) NumPy program to convert a list and tuple into arrays."
      ],
      "metadata": {
        "id": "NJIz3B_Ssa_9"
      }
    },
    {
      "cell_type": "code",
      "source": [
        "#  NumPy program to convert a list of numeric value into a one-dimensional NumPy array.\n",
        "\n",
        "import numpy as np\n",
        "\n",
        "list_1 = [1, 2, 3, 4, 5]\n",
        "np_array = np.array(list_1)\n",
        "\n",
        "# Print the original list and the NumPy array\n",
        "print(\"Original List:\", list_1)\n",
        "print(\"\\nNumPy Array:\", np_array)\n"
      ],
      "metadata": {
        "colab": {
          "base_uri": "https://localhost:8080/"
        },
        "id": "ZMiCRQZjsrZ2",
        "outputId": "c34c8282-1ff3-4e39-c1c8-ead129607267"
      },
      "execution_count": 14,
      "outputs": [
        {
          "output_type": "stream",
          "name": "stdout",
          "text": [
            "Original List: [1, 2, 3, 4, 5]\n",
            "\n",
            "NumPy Array: [1 2 3 4 5]\n"
          ]
        }
      ]
    },
    {
      "cell_type": "code",
      "source": [
        "# NumPy program to convert a list and tuple into arrays.\n",
        "\n",
        "import numpy as np\n",
        "\n",
        "list_2 = [1, 2, 3, 4, 5]\n",
        "np_list = np.array(list_2)\n",
        "\n",
        "tup_2 = (6, 7, 8, 9, 10)\n",
        "np_tuple = np.array(tup_2)\n",
        "\n",
        "# Print the original list, list array, tuple, and tuple array\n",
        "print(\"Original List:\", list_2)\n",
        "print(\"\\nList Array:\", np_list)\n",
        "print(\"\\nOriginal Tuple:\", tup_2)\n",
        "print(\"\\nTuple Array:\", np_tuple)\n"
      ],
      "metadata": {
        "colab": {
          "base_uri": "https://localhost:8080/"
        },
        "id": "OdeXLwCitEg9",
        "outputId": "f10ab324-8e93-429f-f783-7c249ba5528e"
      },
      "execution_count": 18,
      "outputs": [
        {
          "output_type": "stream",
          "name": "stdout",
          "text": [
            "Original List: [1, 2, 3, 4, 5]\n",
            "\n",
            "List Array: [1 2 3 4 5]\n",
            "\n",
            "Original Tuple: (6, 7, 8, 9, 10)\n",
            "\n",
            "Tuple Array: [ 6  7  8  9 10]\n"
          ]
        }
      ]
    },
    {
      "cell_type": "code",
      "source": [],
      "metadata": {
        "id": "zvZ1oaMntyI_"
      },
      "execution_count": null,
      "outputs": []
    },
    {
      "cell_type": "markdown",
      "source": [
        "**Data manipulations using Pandas**\n",
        "\n",
        "a) Program to convert a NumPy array and series to data frames.  \n",
        "b) Program to add, subtract, multiple and divide two Pandas Series.  \n",
        "c) Program to retrieve and manipulate data using data frames."
      ],
      "metadata": {
        "id": "PTJQbzUPuHj-"
      }
    },
    {
      "cell_type": "code",
      "source": [
        "# Program to convert a NumPy array and series to data frames.\n",
        "\n",
        "import pandas as pd\n",
        "\n",
        "np_array = np.array([[1, 2, 3], [4, 5, 6], [7, 8, 9]])\n",
        "df_from_array = pd.DataFrame(np_array, columns=['a', 'b', 'c'])\n",
        "\n",
        "series_data = pd.Series([10, 20, 30, 40, 50])\n",
        "df_from_series = pd.DataFrame(series_data, columns=['Values'])\n",
        "\n",
        "print(\"NumPy array:\\n\", np_array)\n",
        "print(\"\\nDataFrame from NumPy array:\\n\", df_from_array)\n",
        "print(\"\\nSeries:\\n\", series_data)\n",
        "print(\"\\nDataFrame from Series:\", df_from_series)\n"
      ],
      "metadata": {
        "colab": {
          "base_uri": "https://localhost:8080/"
        },
        "id": "oawsY1uKuTxh",
        "outputId": "30fe958a-ad93-4db1-ec58-9454dc519776"
      },
      "execution_count": 22,
      "outputs": [
        {
          "output_type": "stream",
          "name": "stdout",
          "text": [
            "NumPy array:\n",
            " [[1 2 3]\n",
            " [4 5 6]\n",
            " [7 8 9]]\n",
            "\n",
            "DataFrame from NumPy array:\n",
            "    a  b  c\n",
            "0  1  2  3\n",
            "1  4  5  6\n",
            "2  7  8  9\n",
            "\n",
            "Series:\n",
            " 0    10\n",
            "1    20\n",
            "2    30\n",
            "3    40\n",
            "4    50\n",
            "dtype: int64\n",
            "\n",
            "DataFrame from Series:    Values\n",
            "0      10\n",
            "1      20\n",
            "2      30\n",
            "3      40\n",
            "4      50\n"
          ]
        }
      ]
    },
    {
      "cell_type": "code",
      "source": [
        "#  Program to add, subtract, multiple and divide two Pandas Series.\n",
        "\n",
        "series1 = pd.Series([1, 2, 3, 4, 5])\n",
        "series2 = pd.Series([6, 7, 8, 9, 10])\n",
        "\n",
        "addition = series1 + series2\n",
        "subtraction = series1 - series2\n",
        "multiplication = series1 * series2\n",
        "division = series1 / series2\n",
        "\n",
        "\n",
        "print(\"\\nAddition:\\n\", addition)\n",
        "print(\"\\nSubtraction:\\n\", subtraction)\n",
        "print(\"\\nMultiplication:\\n\", multiplication)\n",
        "print(\"\\nDivision:\\n\", division)\n",
        "\n"
      ],
      "metadata": {
        "colab": {
          "base_uri": "https://localhost:8080/"
        },
        "id": "GfjSqEIduwef",
        "outputId": "b5530b6d-0d3c-439d-caea-3d716fa8bd59"
      },
      "execution_count": 26,
      "outputs": [
        {
          "output_type": "stream",
          "name": "stdout",
          "text": [
            "\n",
            "Addition:\n",
            " 0     7\n",
            "1     9\n",
            "2    11\n",
            "3    13\n",
            "4    15\n",
            "dtype: int64\n",
            "\n",
            "Subtraction:\n",
            " 0   -5\n",
            "1   -5\n",
            "2   -5\n",
            "3   -5\n",
            "4   -5\n",
            "dtype: int64\n",
            "\n",
            "Multiplication:\n",
            " 0     6\n",
            "1    14\n",
            "2    24\n",
            "3    36\n",
            "4    50\n",
            "dtype: int64\n",
            "\n",
            "Division:\n",
            " 0    0.166667\n",
            "1    0.285714\n",
            "2    0.375000\n",
            "3    0.444444\n",
            "4    0.500000\n",
            "dtype: float64\n"
          ]
        }
      ]
    },
    {
      "cell_type": "code",
      "source": [
        "# Program to retrieve and manipulate data using data frames\n",
        "\n",
        "import pandas as pd\n",
        "\n",
        "data = {\n",
        "    'Name': ['John', 'Emily', 'Michael', 'Jessica'],\n",
        "    'Age': [25, 28, 32, 30],\n",
        "    'City': ['New York', 'Los Angeles', 'Chicago', 'Houston']\n",
        "}\n",
        "\n",
        "\n",
        "df = pd.DataFrame(data)\n",
        "\n",
        "print(\"Original DataFrame:\")\n",
        "print(df)\n",
        "\n",
        "# Accessing specific columns\n",
        "names = df['Name']\n",
        "ages = df['Age']\n",
        "cities = df['City']\n",
        "\n",
        "print(\"\\nRetrieved Columns:\")\n",
        "print(\"Names:\", names)\n",
        "print(\"Ages:\", ages)\n",
        "print(\"Cities:\", cities)\n",
        "\n",
        "# Accessing specific rows\n",
        "first_row = df.loc[0]\n",
        "second_row = df.loc[1]\n",
        "last_row = df.loc[df.shape[0] - 1]\n",
        "\n",
        "print(\"\\nRetrieved Rows:\")\n",
        "print(\"First Row:\\n\", first_row)\n",
        "print(\"Second Row:\\n\", second_row)\n",
        "print(\"Last Row:\\n\", last_row)\n",
        "\n",
        "# Manipulating data in the DataFrame\n",
        "# Adding a new column\n",
        "df['Salary'] = [50000, 60000, 70000, 55000]\n",
        "\n",
        "# Modifying values in a column\n",
        "df['Age'] = df['Age'] + 1\n",
        "\n",
        "# Deleting a column\n",
        "df.drop('City', axis=1, inplace=True)\n",
        "\n",
        "print(\"\\nModified DataFrame:\")\n",
        "print(df)\n"
      ],
      "metadata": {
        "colab": {
          "base_uri": "https://localhost:8080/"
        },
        "id": "m4sci_AIvOUN",
        "outputId": "afbef2e0-34c5-44b9-cf30-039028718ab7"
      },
      "execution_count": 27,
      "outputs": [
        {
          "output_type": "stream",
          "name": "stdout",
          "text": [
            "Original DataFrame:\n",
            "      Name  Age         City\n",
            "0     John   25     New York\n",
            "1    Emily   28  Los Angeles\n",
            "2  Michael   32      Chicago\n",
            "3  Jessica   30      Houston\n",
            "\n",
            "Retrieved Columns:\n",
            "Names: 0       John\n",
            "1      Emily\n",
            "2    Michael\n",
            "3    Jessica\n",
            "Name: Name, dtype: object\n",
            "Ages: 0    25\n",
            "1    28\n",
            "2    32\n",
            "3    30\n",
            "Name: Age, dtype: int64\n",
            "Cities: 0       New York\n",
            "1    Los Angeles\n",
            "2        Chicago\n",
            "3        Houston\n",
            "Name: City, dtype: object\n",
            "\n",
            "Retrieved Rows:\n",
            "First Row:\n",
            " Name        John\n",
            "Age           25\n",
            "City    New York\n",
            "Name: 0, dtype: object\n",
            "Second Row:\n",
            " Name          Emily\n",
            "Age              28\n",
            "City    Los Angeles\n",
            "Name: 1, dtype: object\n",
            "Last Row:\n",
            " Name    Jessica\n",
            "Age          30\n",
            "City    Houston\n",
            "Name: 3, dtype: object\n",
            "\n",
            "Modified DataFrame:\n",
            "      Name  Age  Salary\n",
            "0     John   26   50000\n",
            "1    Emily   29   60000\n",
            "2  Michael   33   70000\n",
            "3  Jessica   31   55000\n"
          ]
        }
      ]
    },
    {
      "cell_type": "code",
      "source": [],
      "metadata": {
        "id": "FcxAMMTmv_2N"
      },
      "execution_count": null,
      "outputs": []
    }
  ]
}